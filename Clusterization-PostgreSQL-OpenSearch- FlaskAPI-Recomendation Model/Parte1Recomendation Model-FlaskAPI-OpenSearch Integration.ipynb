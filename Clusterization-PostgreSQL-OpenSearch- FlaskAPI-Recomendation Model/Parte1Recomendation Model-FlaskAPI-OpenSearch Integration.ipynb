{
 "cells": [
  {
   "cell_type": "markdown",
   "metadata": {},
   "source": [
    "**PARTE 1 - SISTEMA de RECOM - OPENSEARCH - API**"
   ]
  },
  {
   "cell_type": "code",
   "execution_count": 59,
   "metadata": {},
   "outputs": [
    {
     "name": "stdout",
     "output_type": "stream",
     "text": [
      "The autoreload extension is already loaded. To reload it, use:\n",
      "  %reload_ext autoreload\n"
     ]
    }
   ],
   "source": [
    "%load_ext autoreload\n",
    "%autoreload 2"
   ]
  },
  {
   "cell_type": "markdown",
   "metadata": {},
   "source": [
    "• Importar bases de datos con las cuales se va a trabajar."
   ]
  },
  {
   "cell_type": "code",
   "execution_count": 115,
   "metadata": {},
   "outputs": [],
   "source": [
    "# Base de datos\n",
    "import pandas as pd\n",
    "\n",
    "movies_df = pd.read_csv('peliculas.csv')\n",
    "movies_df['Release Date'] = pd.to_datetime(movies_df['Release Date'])\n",
    "\n",
    "ratings_df = pd.read_csv('scores.csv')\n",
    "ratings_df['Date'] = pd.to_datetime(ratings_df['Date'])\n"
   ]
  },
  {
   "cell_type": "code",
   "execution_count": 116,
   "metadata": {},
   "outputs": [
    {
     "data": {
      "text/html": [
       "<div>\n",
       "<style scoped>\n",
       "    .dataframe tbody tr th:only-of-type {\n",
       "        vertical-align: middle;\n",
       "    }\n",
       "\n",
       "    .dataframe tbody tr th {\n",
       "        vertical-align: top;\n",
       "    }\n",
       "\n",
       "    .dataframe thead th {\n",
       "        text-align: right;\n",
       "    }\n",
       "</style>\n",
       "<table border=\"1\" class=\"dataframe\">\n",
       "  <thead>\n",
       "    <tr style=\"text-align: right;\">\n",
       "      <th></th>\n",
       "      <th>Unnamed: 0</th>\n",
       "      <th>user_id</th>\n",
       "      <th>movie_id</th>\n",
       "      <th>rating</th>\n",
       "      <th>Date</th>\n",
       "      <th>Action</th>\n",
       "      <th>Adventure</th>\n",
       "      <th>Animation</th>\n",
       "      <th>Children's</th>\n",
       "      <th>Comedy</th>\n",
       "      <th>...</th>\n",
       "      <th>Fantasy</th>\n",
       "      <th>Film-Noir</th>\n",
       "      <th>Horror</th>\n",
       "      <th>Musical</th>\n",
       "      <th>Mystery</th>\n",
       "      <th>Romance</th>\n",
       "      <th>Sci-Fi</th>\n",
       "      <th>Thriller</th>\n",
       "      <th>War</th>\n",
       "      <th>Western</th>\n",
       "    </tr>\n",
       "  </thead>\n",
       "  <tbody>\n",
       "    <tr>\n",
       "      <th>0</th>\n",
       "      <td>0</td>\n",
       "      <td>196</td>\n",
       "      <td>242</td>\n",
       "      <td>3</td>\n",
       "      <td>1997-12-04 15:55:49</td>\n",
       "      <td>0</td>\n",
       "      <td>0</td>\n",
       "      <td>0</td>\n",
       "      <td>0</td>\n",
       "      <td>1</td>\n",
       "      <td>...</td>\n",
       "      <td>0</td>\n",
       "      <td>0</td>\n",
       "      <td>0</td>\n",
       "      <td>0</td>\n",
       "      <td>0</td>\n",
       "      <td>0</td>\n",
       "      <td>0</td>\n",
       "      <td>0</td>\n",
       "      <td>0</td>\n",
       "      <td>0</td>\n",
       "    </tr>\n",
       "    <tr>\n",
       "      <th>1</th>\n",
       "      <td>1</td>\n",
       "      <td>186</td>\n",
       "      <td>302</td>\n",
       "      <td>3</td>\n",
       "      <td>1998-04-04 19:22:22</td>\n",
       "      <td>0</td>\n",
       "      <td>0</td>\n",
       "      <td>0</td>\n",
       "      <td>0</td>\n",
       "      <td>0</td>\n",
       "      <td>...</td>\n",
       "      <td>0</td>\n",
       "      <td>1</td>\n",
       "      <td>0</td>\n",
       "      <td>0</td>\n",
       "      <td>1</td>\n",
       "      <td>0</td>\n",
       "      <td>0</td>\n",
       "      <td>1</td>\n",
       "      <td>0</td>\n",
       "      <td>0</td>\n",
       "    </tr>\n",
       "    <tr>\n",
       "      <th>2</th>\n",
       "      <td>2</td>\n",
       "      <td>22</td>\n",
       "      <td>377</td>\n",
       "      <td>1</td>\n",
       "      <td>1997-11-07 07:18:36</td>\n",
       "      <td>0</td>\n",
       "      <td>0</td>\n",
       "      <td>0</td>\n",
       "      <td>1</td>\n",
       "      <td>1</td>\n",
       "      <td>...</td>\n",
       "      <td>0</td>\n",
       "      <td>0</td>\n",
       "      <td>0</td>\n",
       "      <td>0</td>\n",
       "      <td>0</td>\n",
       "      <td>0</td>\n",
       "      <td>0</td>\n",
       "      <td>0</td>\n",
       "      <td>0</td>\n",
       "      <td>0</td>\n",
       "    </tr>\n",
       "    <tr>\n",
       "      <th>3</th>\n",
       "      <td>3</td>\n",
       "      <td>244</td>\n",
       "      <td>51</td>\n",
       "      <td>2</td>\n",
       "      <td>1997-11-27 05:02:03</td>\n",
       "      <td>0</td>\n",
       "      <td>0</td>\n",
       "      <td>0</td>\n",
       "      <td>0</td>\n",
       "      <td>0</td>\n",
       "      <td>...</td>\n",
       "      <td>0</td>\n",
       "      <td>0</td>\n",
       "      <td>0</td>\n",
       "      <td>0</td>\n",
       "      <td>0</td>\n",
       "      <td>1</td>\n",
       "      <td>0</td>\n",
       "      <td>0</td>\n",
       "      <td>1</td>\n",
       "      <td>1</td>\n",
       "    </tr>\n",
       "    <tr>\n",
       "      <th>4</th>\n",
       "      <td>4</td>\n",
       "      <td>166</td>\n",
       "      <td>346</td>\n",
       "      <td>1</td>\n",
       "      <td>1998-02-02 05:33:16</td>\n",
       "      <td>0</td>\n",
       "      <td>0</td>\n",
       "      <td>0</td>\n",
       "      <td>0</td>\n",
       "      <td>0</td>\n",
       "      <td>...</td>\n",
       "      <td>0</td>\n",
       "      <td>0</td>\n",
       "      <td>0</td>\n",
       "      <td>0</td>\n",
       "      <td>0</td>\n",
       "      <td>0</td>\n",
       "      <td>0</td>\n",
       "      <td>0</td>\n",
       "      <td>0</td>\n",
       "      <td>0</td>\n",
       "    </tr>\n",
       "  </tbody>\n",
       "</table>\n",
       "<p>5 rows × 23 columns</p>\n",
       "</div>"
      ],
      "text/plain": [
       "   Unnamed: 0  user_id  movie_id  rating                Date  Action  \\\n",
       "0           0      196       242       3 1997-12-04 15:55:49       0   \n",
       "1           1      186       302       3 1998-04-04 19:22:22       0   \n",
       "2           2       22       377       1 1997-11-07 07:18:36       0   \n",
       "3           3      244        51       2 1997-11-27 05:02:03       0   \n",
       "4           4      166       346       1 1998-02-02 05:33:16       0   \n",
       "\n",
       "   Adventure  Animation  Children's  Comedy  ...  Fantasy  Film-Noir  Horror  \\\n",
       "0          0          0           0       1  ...        0          0       0   \n",
       "1          0          0           0       0  ...        0          1       0   \n",
       "2          0          0           1       1  ...        0          0       0   \n",
       "3          0          0           0       0  ...        0          0       0   \n",
       "4          0          0           0       0  ...        0          0       0   \n",
       "\n",
       "   Musical  Mystery  Romance  Sci-Fi  Thriller  War  Western  \n",
       "0        0        0        0       0         0    0        0  \n",
       "1        0        1        0       0         1    0        0  \n",
       "2        0        0        0       0         0    0        0  \n",
       "3        0        0        1       0         0    1        1  \n",
       "4        0        0        0       0         0    0        0  \n",
       "\n",
       "[5 rows x 23 columns]"
      ]
     },
     "execution_count": 116,
     "metadata": {},
     "output_type": "execute_result"
    }
   ],
   "source": [
    "# Merge de bases para agregar género\n",
    "movies_df_join = movies_df[[\"id\", 'Action', 'Adventure', 'Animation',\n",
    "              \"Children's\", 'Comedy', 'Crime', 'Documentary', 'Drama', 'Fantasy',\n",
    "              'Film-Noir', 'Horror', 'Musical', 'Mystery', 'Romance', 'Sci-Fi',\n",
    "              'Thriller', 'War', 'Western']]\n",
    "\n",
    "ratings = ratings_df.merge(movies_df_join, how='left', left_on=\"movie_id\", right_on=\"id\", suffixes=(\"\", \"\"))\n",
    "ratings = ratings.drop(columns=['id'])\n",
    "\n",
    "ratings_df = ratings\n",
    "ratings_df.head()"
   ]
  },
  {
   "cell_type": "markdown",
   "metadata": {},
   "source": [
    "•\tCrear un sistema de recomendación Model Based utilizando una red neuronal con matriz de embeddings de usuarios y otra matriz de embeddings de películas. No es necesario que la dimensión de los embeddings de películas y usuarios sean iguales."
   ]
  },
  {
   "cell_type": "code",
   "execution_count": null,
   "metadata": {},
   "outputs": [],
   "source": [
    "# Establezco trakeo de corridas en MLFLOW para seleccionar modelo\n",
    "import mlflow\n",
    "\n",
    "mlflow.set_tracking_uri(uri=\"http://127.0.0.1:5000\")\n",
    "mlflow.set_experiment('Integrador2')"
   ]
  },
  {
   "cell_type": "code",
   "execution_count": 117,
   "metadata": {},
   "outputs": [
    {
     "data": {
      "text/plain": [
       "(80000, 20000)"
      ]
     },
     "execution_count": 117,
     "metadata": {},
     "output_type": "execute_result"
    }
   ],
   "source": [
    "# Conjuntos de entrenamiento y prueba\n",
    "from sklearn.model_selection import train_test_split\n",
    "\n",
    "train_df, val_df = train_test_split(ratings_df, test_size=0.2, random_state=98)\n",
    "len(train_df), len(val_df)"
   ]
  },
  {
   "cell_type": "code",
   "execution_count": 118,
   "metadata": {},
   "outputs": [],
   "source": [
    "# Parámetros\n",
    "n_latent_factors_user = 10\n",
    "n_latent_factors_movie = 15\n",
    "learning_rate = 0.002183\n",
    "batch_size = 319\n",
    "epochs = 12\n",
    "\n",
    "#Hiperparámetros base: [10, 15, 0.0005, 350, 15]\n",
    "#Mejores hiperparámetros encontrados: [41, 13, 0.0021830968390524623, 319, 12]"
   ]
  },
  {
   "cell_type": "code",
   "execution_count": 119,
   "metadata": {},
   "outputs": [
    {
     "name": "stdout",
     "output_type": "stream",
     "text": [
      "943 1682 943 1640\n",
      "5 1 3.5304875\n"
     ]
    }
   ],
   "source": [
    "# Variables\n",
    "n_users = int(ratings_df.user_id.nunique())\n",
    "n_movies = int(ratings_df.movie_id.nunique())\n",
    "n_users_train = int(train_df.user_id.nunique())\n",
    "n_movies_train = int(train_df.movie_id.nunique())\n",
    "print(n_users, n_movies, n_users_train, n_movies_train)\n",
    "\n",
    "max_rating = train_df['rating'].max()\n",
    "min_rating = train_df['rating'].min()\n",
    "av_rating = train_df['rating'].mean()\n",
    "print(max_rating, min_rating, av_rating)\n",
    "\n",
    "genre = ['Action', 'Adventure', 'Animation',\n",
    "              \"Children's\", 'Comedy', 'Crime', 'Documentary', 'Drama', 'Fantasy',\n",
    "              'Film-Noir', 'Horror', 'Musical', 'Mystery', 'Romance', 'Sci-Fi',\n",
    "              'Thriller', 'War', 'Western']"
   ]
  },
  {
   "cell_type": "code",
   "execution_count": 120,
   "metadata": {},
   "outputs": [
    {
     "name": "stdout",
     "output_type": "stream",
     "text": [
      "Model: \"model_30\"\n",
      "__________________________________________________________________________________________________\n",
      " Layer (type)                Output Shape                 Param #   Connected to                  \n",
      "==================================================================================================\n",
      " Item (InputLayer)           [(None, 1)]                  0         []                            \n",
      "                                                                                                  \n",
      " User (InputLayer)           [(None, 1)]                  0         []                            \n",
      "                                                                                                  \n",
      " Movie-Embedding (Embedding  (None, 1, 15)                25245     ['Item[0][0]']                \n",
      " )                                                                                                \n",
      "                                                                                                  \n",
      " User-Embedding (Embedding)  (None, 1, 10)                9440      ['User[0][0]']                \n",
      "                                                                                                  \n",
      " FlattenMovies (Flatten)     (None, 15)                   0         ['Movie-Embedding[0][0]']     \n",
      "                                                                                                  \n",
      " FlattenUsers (Flatten)      (None, 10)                   0         ['User-Embedding[0][0]']      \n",
      "                                                                                                  \n",
      " Concat (Concatenate)        (None, 25)                   0         ['FlattenMovies[0][0]',       \n",
      "                                                                     'FlattenUsers[0][0]']        \n",
      "                                                                                                  \n",
      " FullyConnected-1 (Dense)    (None, 128)                  3328      ['Concat[0][0]']              \n",
      "                                                                                                  \n",
      " FullyConnected-2 (Dense)    (None, 64)                   8256      ['FullyConnected-1[0][0]']    \n",
      "                                                                                                  \n",
      " dense_70 (Dense)            (None, 1)                    65        ['FullyConnected-2[0][0]']    \n",
      "                                                                                                  \n",
      "==================================================================================================\n",
      "Total params: 46334 (180.99 KB)\n",
      "Trainable params: 46334 (180.99 KB)\n",
      "Non-trainable params: 0 (0.00 Byte)\n",
      "__________________________________________________________________________________________________\n"
     ]
    }
   ],
   "source": [
    "# Configuración del modelo\n",
    "from keras.layers import Input, Embedding, Flatten, Concatenate, Dense, Lambda, Add, Dropout\n",
    "from keras.regularizers import l2\n",
    "from keras import Model\n",
    "from keras.optimizers import Adam\n",
    "\n",
    "#genre_input = Input(shape=[len(genre)],name='genre')\n",
    "\n",
    "movie_input = Input(shape=[1], name='Item')\n",
    "movie_embedding = Embedding(n_movies + 1, \n",
    "                            n_latent_factors_movie, \n",
    "                            name='Movie-Embedding', \n",
    "                            embeddings_regularizer = l2(0.001) #regularizador\n",
    "                            )(\n",
    "                            movie_input)\n",
    "movie_vec = Flatten(name='FlattenMovies')(movie_embedding)\n",
    "\n",
    "user_input = Input(shape=[1],name='User')\n",
    "user_embeddings = Embedding(n_users + 1, \n",
    "                            n_latent_factors_user, \n",
    "                            name='User-Embedding', \n",
    "                            embeddings_regularizer = l2(0.001) #regularizador\n",
    "                            )(\n",
    "                            user_input)\n",
    "user_vec = Flatten(name='FlattenUsers')(user_embeddings)\n",
    "\n",
    "concat = Concatenate(name='Concat')([movie_vec, user_vec]) #genre_input\n",
    "\n",
    "dense1 = Dense(128, name='FullyConnected-1', activation='relu')(concat)\n",
    "#dropout = Dropout(0.4)(dense1)\n",
    "dense2 = Dense(64, name='FullyConnected-2', activation='relu')(dense1) #dropout\n",
    "output = Dense(1)(dense2)\n",
    "#output = Dense(1, name='End', activation='sigmoid')(dense2)\n",
    "#output = Lambda(lambda z: (max_rating - min_rating) * z + min_rating)(output)\n",
    "\n",
    "model = Model([user_input, movie_input],[output]) #genre_input\n",
    "model.summary()"
   ]
  },
  {
   "cell_type": "code",
   "execution_count": 121,
   "metadata": {},
   "outputs": [
    {
     "name": "stderr",
     "output_type": "stream",
     "text": [
      "WARNING:absl:At this time, the v2.11+ optimizer `tf.keras.optimizers.Adam` runs slowly on M1/M2 Macs, please use the legacy Keras optimizer instead, located at `tf.keras.optimizers.legacy.Adam`.\n",
      "WARNING:absl:There is a known slowdown when using v2.11+ Keras optimizers on M1/M2 Macs. Falling back to the legacy Keras optimizer, i.e., `tf.keras.optimizers.legacy.Adam`.\n"
     ]
    }
   ],
   "source": [
    "# Configuración de la función de pérdidas y métrica a utilizar\n",
    "import keras.backend as K \n",
    "\n",
    "#def root_mean_squared_error(y_true, y_pred):\n",
    "#    return K.sqrt(K.mean(K.square(y_pred - y_true))) \n",
    "model.compile(Adam(learning_rate=learning_rate), loss='mean_squared_error', metrics=['mean_squared_error'])"
   ]
  },
  {
   "cell_type": "code",
   "execution_count": 122,
   "metadata": {},
   "outputs": [
    {
     "name": "stderr",
     "output_type": "stream",
     "text": [
      "WARNING:absl:At this time, the v2.11+ optimizer `tf.keras.optimizers.Adam` runs slowly on M1/M2 Macs, please use the legacy Keras optimizer instead, located at `tf.keras.optimizers.legacy.Adam`.\n",
      "WARNING:absl:There is a known slowdown when using v2.11+ Keras optimizers on M1/M2 Macs. Falling back to the legacy Keras optimizer, i.e., `tf.keras.optimizers.legacy.Adam`.\n"
     ]
    },
    {
     "name": "stdout",
     "output_type": "stream",
     "text": [
      "Iteration No: 1 started. Evaluating function at random point.\n"
     ]
    },
    {
     "name": "stderr",
     "output_type": "stream",
     "text": [
      "WARNING:absl:At this time, the v2.11+ optimizer `tf.keras.optimizers.Adam` runs slowly on M1/M2 Macs, please use the legacy Keras optimizer instead, located at `tf.keras.optimizers.legacy.Adam`.\n",
      "WARNING:absl:There is a known slowdown when using v2.11+ Keras optimizers on M1/M2 Macs. Falling back to the legacy Keras optimizer, i.e., `tf.keras.optimizers.legacy.Adam`.\n"
     ]
    },
    {
     "name": "stdout",
     "output_type": "stream",
     "text": [
      "Iteration No: 1 ended. Evaluation done at random point.\n",
      "Time taken: 2.1645\n",
      "Function value obtained: 0.9275\n",
      "Current minimum: 0.9275\n",
      "Iteration No: 2 started. Evaluating function at random point.\n"
     ]
    },
    {
     "name": "stderr",
     "output_type": "stream",
     "text": [
      "WARNING:absl:At this time, the v2.11+ optimizer `tf.keras.optimizers.Adam` runs slowly on M1/M2 Macs, please use the legacy Keras optimizer instead, located at `tf.keras.optimizers.legacy.Adam`.\n",
      "WARNING:absl:There is a known slowdown when using v2.11+ Keras optimizers on M1/M2 Macs. Falling back to the legacy Keras optimizer, i.e., `tf.keras.optimizers.legacy.Adam`.\n"
     ]
    },
    {
     "name": "stdout",
     "output_type": "stream",
     "text": [
      "Iteration No: 2 ended. Evaluation done at random point.\n",
      "Time taken: 5.2250\n",
      "Function value obtained: 0.9311\n",
      "Current minimum: 0.9275\n",
      "Iteration No: 3 started. Evaluating function at random point.\n",
      "Epoch 9: early stopping\n"
     ]
    },
    {
     "name": "stderr",
     "output_type": "stream",
     "text": [
      "WARNING:absl:At this time, the v2.11+ optimizer `tf.keras.optimizers.Adam` runs slowly on M1/M2 Macs, please use the legacy Keras optimizer instead, located at `tf.keras.optimizers.legacy.Adam`.\n",
      "WARNING:absl:There is a known slowdown when using v2.11+ Keras optimizers on M1/M2 Macs. Falling back to the legacy Keras optimizer, i.e., `tf.keras.optimizers.legacy.Adam`.\n"
     ]
    },
    {
     "name": "stdout",
     "output_type": "stream",
     "text": [
      "Iteration No: 3 ended. Evaluation done at random point.\n",
      "Time taken: 5.8986\n",
      "Function value obtained: 1.0364\n",
      "Current minimum: 0.9275\n",
      "Iteration No: 4 started. Evaluating function at random point.\n"
     ]
    },
    {
     "name": "stderr",
     "output_type": "stream",
     "text": [
      "WARNING:absl:At this time, the v2.11+ optimizer `tf.keras.optimizers.Adam` runs slowly on M1/M2 Macs, please use the legacy Keras optimizer instead, located at `tf.keras.optimizers.legacy.Adam`.\n",
      "WARNING:absl:There is a known slowdown when using v2.11+ Keras optimizers on M1/M2 Macs. Falling back to the legacy Keras optimizer, i.e., `tf.keras.optimizers.legacy.Adam`.\n"
     ]
    },
    {
     "name": "stdout",
     "output_type": "stream",
     "text": [
      "Iteration No: 4 ended. Evaluation done at random point.\n",
      "Time taken: 7.6069\n",
      "Function value obtained: 0.9857\n",
      "Current minimum: 0.9275\n",
      "Iteration No: 5 started. Evaluating function at random point.\n"
     ]
    },
    {
     "name": "stderr",
     "output_type": "stream",
     "text": [
      "WARNING:absl:At this time, the v2.11+ optimizer `tf.keras.optimizers.Adam` runs slowly on M1/M2 Macs, please use the legacy Keras optimizer instead, located at `tf.keras.optimizers.legacy.Adam`.\n",
      "WARNING:absl:There is a known slowdown when using v2.11+ Keras optimizers on M1/M2 Macs. Falling back to the legacy Keras optimizer, i.e., `tf.keras.optimizers.legacy.Adam`.\n"
     ]
    },
    {
     "name": "stdout",
     "output_type": "stream",
     "text": [
      "Iteration No: 5 ended. Evaluation done at random point.\n",
      "Time taken: 1.7411\n",
      "Function value obtained: 1.0094\n",
      "Current minimum: 0.9275\n",
      "Iteration No: 6 started. Evaluating function at random point.\n",
      "Epoch 11: early stopping\n"
     ]
    },
    {
     "name": "stderr",
     "output_type": "stream",
     "text": [
      "WARNING:absl:At this time, the v2.11+ optimizer `tf.keras.optimizers.Adam` runs slowly on M1/M2 Macs, please use the legacy Keras optimizer instead, located at `tf.keras.optimizers.legacy.Adam`.\n",
      "WARNING:absl:There is a known slowdown when using v2.11+ Keras optimizers on M1/M2 Macs. Falling back to the legacy Keras optimizer, i.e., `tf.keras.optimizers.legacy.Adam`.\n"
     ]
    },
    {
     "name": "stdout",
     "output_type": "stream",
     "text": [
      "Iteration No: 6 ended. Evaluation done at random point.\n",
      "Time taken: 2.2097\n",
      "Function value obtained: 1.0089\n",
      "Current minimum: 0.9275\n",
      "Iteration No: 7 started. Evaluating function at random point.\n"
     ]
    },
    {
     "name": "stderr",
     "output_type": "stream",
     "text": [
      "WARNING:absl:At this time, the v2.11+ optimizer `tf.keras.optimizers.Adam` runs slowly on M1/M2 Macs, please use the legacy Keras optimizer instead, located at `tf.keras.optimizers.legacy.Adam`.\n",
      "WARNING:absl:There is a known slowdown when using v2.11+ Keras optimizers on M1/M2 Macs. Falling back to the legacy Keras optimizer, i.e., `tf.keras.optimizers.legacy.Adam`.\n"
     ]
    },
    {
     "name": "stdout",
     "output_type": "stream",
     "text": [
      "Iteration No: 7 ended. Evaluation done at random point.\n",
      "Time taken: 1.8928\n",
      "Function value obtained: 7.1492\n",
      "Current minimum: 0.9275\n",
      "Iteration No: 8 started. Evaluating function at random point.\n"
     ]
    },
    {
     "name": "stderr",
     "output_type": "stream",
     "text": [
      "WARNING:absl:At this time, the v2.11+ optimizer `tf.keras.optimizers.Adam` runs slowly on M1/M2 Macs, please use the legacy Keras optimizer instead, located at `tf.keras.optimizers.legacy.Adam`.\n",
      "WARNING:absl:There is a known slowdown when using v2.11+ Keras optimizers on M1/M2 Macs. Falling back to the legacy Keras optimizer, i.e., `tf.keras.optimizers.legacy.Adam`.\n"
     ]
    },
    {
     "name": "stdout",
     "output_type": "stream",
     "text": [
      "Iteration No: 8 ended. Evaluation done at random point.\n",
      "Time taken: 4.0156\n",
      "Function value obtained: 0.9302\n",
      "Current minimum: 0.9275\n",
      "Iteration No: 9 started. Evaluating function at random point.\n"
     ]
    },
    {
     "name": "stderr",
     "output_type": "stream",
     "text": [
      "WARNING:absl:At this time, the v2.11+ optimizer `tf.keras.optimizers.Adam` runs slowly on M1/M2 Macs, please use the legacy Keras optimizer instead, located at `tf.keras.optimizers.legacy.Adam`.\n",
      "WARNING:absl:There is a known slowdown when using v2.11+ Keras optimizers on M1/M2 Macs. Falling back to the legacy Keras optimizer, i.e., `tf.keras.optimizers.legacy.Adam`.\n"
     ]
    },
    {
     "name": "stdout",
     "output_type": "stream",
     "text": [
      "Iteration No: 9 ended. Evaluation done at random point.\n",
      "Time taken: 1.9468\n",
      "Function value obtained: 1.0207\n",
      "Current minimum: 0.9275\n",
      "Iteration No: 10 started. Evaluating function at random point.\n"
     ]
    },
    {
     "name": "stderr",
     "output_type": "stream",
     "text": [
      "WARNING:absl:At this time, the v2.11+ optimizer `tf.keras.optimizers.Adam` runs slowly on M1/M2 Macs, please use the legacy Keras optimizer instead, located at `tf.keras.optimizers.legacy.Adam`.\n",
      "WARNING:absl:There is a known slowdown when using v2.11+ Keras optimizers on M1/M2 Macs. Falling back to the legacy Keras optimizer, i.e., `tf.keras.optimizers.legacy.Adam`.\n"
     ]
    },
    {
     "name": "stdout",
     "output_type": "stream",
     "text": [
      "Iteration No: 10 ended. Evaluation done at random point.\n",
      "Time taken: 1.3430\n",
      "Function value obtained: 1.1466\n",
      "Current minimum: 0.9275\n",
      "Iteration No: 11 started. Searching for the next optimal point.\n"
     ]
    },
    {
     "name": "stderr",
     "output_type": "stream",
     "text": [
      "WARNING:absl:At this time, the v2.11+ optimizer `tf.keras.optimizers.Adam` runs slowly on M1/M2 Macs, please use the legacy Keras optimizer instead, located at `tf.keras.optimizers.legacy.Adam`.\n",
      "WARNING:absl:There is a known slowdown when using v2.11+ Keras optimizers on M1/M2 Macs. Falling back to the legacy Keras optimizer, i.e., `tf.keras.optimizers.legacy.Adam`.\n"
     ]
    },
    {
     "name": "stdout",
     "output_type": "stream",
     "text": [
      "Iteration No: 11 ended. Search finished for the next optimal point.\n",
      "Time taken: 7.7722\n",
      "Function value obtained: 1.0469\n",
      "Current minimum: 0.9275\n",
      "Iteration No: 12 started. Searching for the next optimal point.\n",
      "Epoch 9: early stopping\n"
     ]
    },
    {
     "name": "stderr",
     "output_type": "stream",
     "text": [
      "WARNING:absl:At this time, the v2.11+ optimizer `tf.keras.optimizers.Adam` runs slowly on M1/M2 Macs, please use the legacy Keras optimizer instead, located at `tf.keras.optimizers.legacy.Adam`.\n",
      "WARNING:absl:There is a known slowdown when using v2.11+ Keras optimizers on M1/M2 Macs. Falling back to the legacy Keras optimizer, i.e., `tf.keras.optimizers.legacy.Adam`.\n"
     ]
    },
    {
     "name": "stdout",
     "output_type": "stream",
     "text": [
      "Iteration No: 12 ended. Search finished for the next optimal point.\n",
      "Time taken: 2.6642\n",
      "Function value obtained: 1.0292\n",
      "Current minimum: 0.9275\n",
      "Iteration No: 13 started. Searching for the next optimal point.\n"
     ]
    },
    {
     "name": "stderr",
     "output_type": "stream",
     "text": [
      "WARNING:absl:At this time, the v2.11+ optimizer `tf.keras.optimizers.Adam` runs slowly on M1/M2 Macs, please use the legacy Keras optimizer instead, located at `tf.keras.optimizers.legacy.Adam`.\n",
      "WARNING:absl:There is a known slowdown when using v2.11+ Keras optimizers on M1/M2 Macs. Falling back to the legacy Keras optimizer, i.e., `tf.keras.optimizers.legacy.Adam`.\n"
     ]
    },
    {
     "name": "stdout",
     "output_type": "stream",
     "text": [
      "Iteration No: 13 ended. Search finished for the next optimal point.\n",
      "Time taken: 2.7432\n",
      "Function value obtained: 1.0789\n",
      "Current minimum: 0.9275\n",
      "Iteration No: 14 started. Searching for the next optimal point.\n"
     ]
    },
    {
     "name": "stderr",
     "output_type": "stream",
     "text": [
      "WARNING:absl:At this time, the v2.11+ optimizer `tf.keras.optimizers.Adam` runs slowly on M1/M2 Macs, please use the legacy Keras optimizer instead, located at `tf.keras.optimizers.legacy.Adam`.\n",
      "WARNING:absl:There is a known slowdown when using v2.11+ Keras optimizers on M1/M2 Macs. Falling back to the legacy Keras optimizer, i.e., `tf.keras.optimizers.legacy.Adam`.\n"
     ]
    },
    {
     "name": "stdout",
     "output_type": "stream",
     "text": [
      "Iteration No: 14 ended. Search finished for the next optimal point.\n",
      "Time taken: 6.5569\n",
      "Function value obtained: 1.0824\n",
      "Current minimum: 0.9275\n",
      "Iteration No: 15 started. Searching for the next optimal point.\n",
      "Epoch 4: early stopping\n"
     ]
    },
    {
     "name": "stderr",
     "output_type": "stream",
     "text": [
      "WARNING:absl:At this time, the v2.11+ optimizer `tf.keras.optimizers.Adam` runs slowly on M1/M2 Macs, please use the legacy Keras optimizer instead, located at `tf.keras.optimizers.legacy.Adam`.\n",
      "WARNING:absl:There is a known slowdown when using v2.11+ Keras optimizers on M1/M2 Macs. Falling back to the legacy Keras optimizer, i.e., `tf.keras.optimizers.legacy.Adam`.\n"
     ]
    },
    {
     "name": "stdout",
     "output_type": "stream",
     "text": [
      "Iteration No: 15 ended. Search finished for the next optimal point.\n",
      "Time taken: 1.1297\n",
      "Function value obtained: 0.9963\n",
      "Current minimum: 0.9275\n",
      "Iteration No: 16 started. Searching for the next optimal point.\n"
     ]
    },
    {
     "name": "stderr",
     "output_type": "stream",
     "text": [
      "WARNING:absl:At this time, the v2.11+ optimizer `tf.keras.optimizers.Adam` runs slowly on M1/M2 Macs, please use the legacy Keras optimizer instead, located at `tf.keras.optimizers.legacy.Adam`.\n",
      "WARNING:absl:There is a known slowdown when using v2.11+ Keras optimizers on M1/M2 Macs. Falling back to the legacy Keras optimizer, i.e., `tf.keras.optimizers.legacy.Adam`.\n"
     ]
    },
    {
     "name": "stdout",
     "output_type": "stream",
     "text": [
      "Iteration No: 16 ended. Search finished for the next optimal point.\n",
      "Time taken: 3.7443\n",
      "Function value obtained: 1.2887\n",
      "Current minimum: 0.9275\n",
      "Iteration No: 17 started. Searching for the next optimal point.\n",
      "Epoch 13: early stopping\n"
     ]
    },
    {
     "name": "stderr",
     "output_type": "stream",
     "text": [
      "WARNING:absl:At this time, the v2.11+ optimizer `tf.keras.optimizers.Adam` runs slowly on M1/M2 Macs, please use the legacy Keras optimizer instead, located at `tf.keras.optimizers.legacy.Adam`.\n",
      "WARNING:absl:There is a known slowdown when using v2.11+ Keras optimizers on M1/M2 Macs. Falling back to the legacy Keras optimizer, i.e., `tf.keras.optimizers.legacy.Adam`.\n"
     ]
    },
    {
     "name": "stdout",
     "output_type": "stream",
     "text": [
      "Iteration No: 17 ended. Search finished for the next optimal point.\n",
      "Time taken: 2.8768\n",
      "Function value obtained: 1.0113\n",
      "Current minimum: 0.9275\n",
      "Iteration No: 18 started. Searching for the next optimal point.\n",
      "Epoch 7: early stopping\n"
     ]
    },
    {
     "name": "stderr",
     "output_type": "stream",
     "text": [
      "WARNING:absl:At this time, the v2.11+ optimizer `tf.keras.optimizers.Adam` runs slowly on M1/M2 Macs, please use the legacy Keras optimizer instead, located at `tf.keras.optimizers.legacy.Adam`.\n",
      "WARNING:absl:There is a known slowdown when using v2.11+ Keras optimizers on M1/M2 Macs. Falling back to the legacy Keras optimizer, i.e., `tf.keras.optimizers.legacy.Adam`.\n"
     ]
    },
    {
     "name": "stdout",
     "output_type": "stream",
     "text": [
      "Iteration No: 18 ended. Search finished for the next optimal point.\n",
      "Time taken: 1.7970\n",
      "Function value obtained: 0.9969\n",
      "Current minimum: 0.9275\n",
      "Iteration No: 19 started. Searching for the next optimal point.\n",
      "Epoch 6: early stopping\n"
     ]
    },
    {
     "name": "stderr",
     "output_type": "stream",
     "text": [
      "WARNING:absl:At this time, the v2.11+ optimizer `tf.keras.optimizers.Adam` runs slowly on M1/M2 Macs, please use the legacy Keras optimizer instead, located at `tf.keras.optimizers.legacy.Adam`.\n",
      "WARNING:absl:There is a known slowdown when using v2.11+ Keras optimizers on M1/M2 Macs. Falling back to the legacy Keras optimizer, i.e., `tf.keras.optimizers.legacy.Adam`.\n"
     ]
    },
    {
     "name": "stdout",
     "output_type": "stream",
     "text": [
      "Iteration No: 19 ended. Search finished for the next optimal point.\n",
      "Time taken: 2.5003\n",
      "Function value obtained: 1.0238\n",
      "Current minimum: 0.9275\n",
      "Iteration No: 20 started. Searching for the next optimal point.\n",
      "Epoch 11: early stopping\n",
      "Iteration No: 20 ended. Search finished for the next optimal point.\n",
      "Time taken: 3.2819\n",
      "Function value obtained: 1.0138\n",
      "Current minimum: 0.9275\n",
      "Mejores hiperparámetros encontrados: [41, 13, 0.0021830968390524623, 319, 12]\n"
     ]
    }
   ],
   "source": [
    "#Búsqueda de hiperparámetros OPT BAYESINA\n",
    "from skopt import gp_minimize\n",
    "from skopt.space import Integer, Real\n",
    "from keras.callbacks import EarlyStopping\n",
    "from sklearn.model_selection import train_test_split\n",
    "import numpy as np\n",
    "\n",
    "# Espacio de búsqueda\n",
    "param_space = [\n",
    "    Integer(5, 50, name='n_latent_factors_user'),   \n",
    "    Integer(5, 50, name='n_latent_factors_movie'),  \n",
    "    Real(1e-5, 1e-2, prior='log-uniform', name='learning_rate'),  \n",
    "    Integer(50, 500, name='batch_size'),            \n",
    "    Integer(5, 20, name='epochs')                   \n",
    "]\n",
    "\n",
    "# Función objetivo a minimizar\n",
    "def objective(params):\n",
    "    n_latent_factors_user, n_latent_factors_movie, learning_rate, batch_size, epochs = params\n",
    "    \n",
    "    user_input = Input(shape=[1], name='User')\n",
    "    movie_input = Input(shape=[1], name='Item')\n",
    "\n",
    "    movie_embedding = Embedding(n_movies + 1, n_latent_factors_movie, name='Movie-Embedding', embeddings_regularizer=l2(0.001))(movie_input)\n",
    "    movie_vec = Flatten(name='FlattenMovies')(movie_embedding)\n",
    "    user_embeddings = Embedding(n_users + 1, n_latent_factors_user, name='User-Embedding', embeddings_regularizer=l2(0.001))(user_input)\n",
    "    user_vec = Flatten(name='FlattenUsers')(user_embeddings)\n",
    "\n",
    "    concat = Concatenate(name='Concat')([movie_vec, user_vec])\n",
    "    \n",
    "    dense1 = Dense(128, activation='relu')(concat)\n",
    "    dense2 = Dense(64, activation='relu')(dense1)\n",
    "    output = Dense(1)(dense2)\n",
    "    \n",
    "    model = Model([user_input, movie_input], output)\n",
    "    model.compile(optimizer=Adam(learning_rate=learning_rate), loss='mean_squared_error', metrics=['mean_squared_error'])\n",
    "    \n",
    "    es = EarlyStopping(monitor='val_loss', mode='min', verbose=1, patience=3)\n",
    "    \n",
    "    # Dividir datos para entrenamiento y validación\n",
    "    train_data, val_data = train_test_split(train_df, test_size=0.2, random_state=42)\n",
    "    \n",
    "    history = model.fit(\n",
    "        [train_data['user_id'].values, train_data['movie_id'].values], train_data['rating'].values,\n",
    "        validation_data=([val_data['user_id'].values, val_data['movie_id'].values], val_data['rating'].values),\n",
    "        epochs=epochs,\n",
    "        batch_size=batch_size,\n",
    "        verbose=0,\n",
    "        callbacks=[es]\n",
    "    )\n",
    "    \n",
    "    # Evaluar la pérdida de validación\n",
    "    val_loss = min(history.history['val_loss'])\n",
    "    \n",
    "    return val_loss\n",
    "\n",
    "# Optimización bayesiana\n",
    "opt_result = gp_minimize(\n",
    "    func=objective,        \n",
    "    dimensions=param_space,  \n",
    "    n_calls=20,             \n",
    "    random_state=42,        \n",
    "    verbose=True\n",
    ")\n",
    "\n",
    "# Mejores hiperparámetros\n",
    "print(\"Mejores hiperparámetros encontrados:\", opt_result.x)\n"
   ]
  },
  {
   "cell_type": "code",
   "execution_count": 123,
   "metadata": {},
   "outputs": [
    {
     "name": "stdout",
     "output_type": "stream",
     "text": [
      "Epoch 1/12\n",
      "251/251 [==============================] - 0s 1ms/step - loss: 1.7800 - mean_squared_error: 1.7481 - val_loss: 0.9518 - val_mean_squared_error: 0.9153\n",
      "Epoch 2/12\n",
      "251/251 [==============================] - 0s 1ms/step - loss: 0.9339 - mean_squared_error: 0.8970 - val_loss: 0.9410 - val_mean_squared_error: 0.9045\n",
      "Epoch 3/12\n",
      "251/251 [==============================] - 0s 1ms/step - loss: 0.9230 - mean_squared_error: 0.8864 - val_loss: 0.9340 - val_mean_squared_error: 0.8975\n",
      "Epoch 4/12\n",
      "251/251 [==============================] - 0s 1ms/step - loss: 0.9113 - mean_squared_error: 0.8725 - val_loss: 0.9206 - val_mean_squared_error: 0.8795\n",
      "Epoch 5/12\n",
      "251/251 [==============================] - 0s 1ms/step - loss: 0.8967 - mean_squared_error: 0.8537 - val_loss: 0.9157 - val_mean_squared_error: 0.8721\n",
      "Epoch 6/12\n",
      "251/251 [==============================] - 0s 1ms/step - loss: 0.8861 - mean_squared_error: 0.8407 - val_loss: 0.9121 - val_mean_squared_error: 0.8665\n",
      "Epoch 7/12\n",
      "251/251 [==============================] - 0s 1ms/step - loss: 0.8765 - mean_squared_error: 0.8297 - val_loss: 0.9105 - val_mean_squared_error: 0.8631\n",
      "Epoch 8/12\n",
      "251/251 [==============================] - 0s 1ms/step - loss: 0.8718 - mean_squared_error: 0.8228 - val_loss: 0.9022 - val_mean_squared_error: 0.8528\n",
      "Epoch 9/12\n",
      "251/251 [==============================] - 0s 1ms/step - loss: 0.8608 - mean_squared_error: 0.8097 - val_loss: 0.8988 - val_mean_squared_error: 0.8467\n",
      "Epoch 10/12\n",
      "251/251 [==============================] - 0s 1ms/step - loss: 0.8501 - mean_squared_error: 0.7961 - val_loss: 0.9051 - val_mean_squared_error: 0.8498\n",
      "Epoch 11/12\n",
      "251/251 [==============================] - 0s 1ms/step - loss: 0.8419 - mean_squared_error: 0.7851 - val_loss: 0.9056 - val_mean_squared_error: 0.8485\n",
      "Epoch 12/12\n",
      "251/251 [==============================] - 0s 1ms/step - loss: 0.8315 - mean_squared_error: 0.7725 - val_loss: 0.9051 - val_mean_squared_error: 0.8450\n"
     ]
    }
   ],
   "source": [
    "# Entrenamiento\n",
    "import keras.callbacks\n",
    "\n",
    "entrenamiento = model.fit([train_df.user_id, train_df.movie_id], #train_df[genre]\n",
    "                    train_df.rating, \n",
    "                    validation_data=([val_df.user_id, val_df.movie_id], #val_df[genre]\n",
    "                                     val_df.rating), \n",
    "                    batch_size=batch_size,\n",
    "                    epochs=epochs, \n",
    "                    callbacks =[keras.callbacks.TensorBoard(update_freq='batch')],\n",
    "                    verbose=1)"
   ]
  },
  {
   "cell_type": "code",
   "execution_count": 124,
   "metadata": {},
   "outputs": [
    {
     "name": "stdout",
     "output_type": "stream",
     "text": [
      "625/625 [==============================] - 0s 289us/step - loss: 0.9051 - mean_squared_error: 0.8450\n"
     ]
    },
    {
     "data": {
      "text/plain": [
       "(0.9050663113594055, 0.8450133800506592)"
      ]
     },
     "execution_count": 124,
     "metadata": {},
     "output_type": "execute_result"
    }
   ],
   "source": [
    "# Resultados test\n",
    "val_loss, val_metric = model.evaluate([val_df.user_id, val_df.movie_id], val_df.rating) #val_df[genre]\n",
    "val_loss, val_metric"
   ]
  },
  {
   "cell_type": "code",
   "execution_count": 125,
   "metadata": {},
   "outputs": [
    {
     "name": "stdout",
     "output_type": "stream",
     "text": [
      "2500/2500 [==============================] - 1s 280us/step - loss: 0.7667 - mean_squared_error: 0.7066\n"
     ]
    },
    {
     "data": {
      "text/plain": [
       "(0.7666733860969543, 0.7066198587417603)"
      ]
     },
     "execution_count": 125,
     "metadata": {},
     "output_type": "execute_result"
    }
   ],
   "source": [
    "# Resultados train\n",
    "loss, metric = model.evaluate([train_df.user_id, train_df.movie_id], train_df.rating) #train_df[genre]\n",
    "loss, metric"
   ]
  },
  {
   "cell_type": "code",
   "execution_count": 126,
   "metadata": {},
   "outputs": [
    {
     "name": "stderr",
     "output_type": "stream",
     "text": [
      "WARNING:matplotlib.legend:No artists with labels found to put in legend.  Note that artists whose label start with an underscore are ignored when legend() is called with no argument.\n"
     ]
    },
    {
     "data": {
      "text/plain": [
       "Text(0.5, 0, 'Epochs')"
      ]
     },
     "execution_count": 126,
     "metadata": {},
     "output_type": "execute_result"
    },
    {
     "data": {
      "image/png": "[encoded data removed]",
      "text/plain": [
       "<Figure size 640x480 with 2 Axes>"
      ]
     },
     "metadata": {},
     "output_type": "display_data"
    }
   ],
   "source": [
    "# Gráficas\n",
    "from matplotlib import pyplot as plt\n",
    "\n",
    "plt.subplot(1, 2, 1)\n",
    "plt.title('Función de pérdida')\n",
    "plt.legend()\n",
    "plt.plot(entrenamiento.history['loss'], label='loss')\n",
    "plt.plot(entrenamiento.history['val_loss'], label='val_loss')\n",
    "plt.legend()\n",
    "plt.xlabel(\"Epochs\")\n",
    "plt.ylabel(\"Valor\")\n",
    "\n",
    "plt.subplot(1, 2, 2)\n",
    "plt.title('Métrica')\n",
    "plt.plot(entrenamiento.history['mean_squared_error'], label='MSE')\n",
    "plt.plot(entrenamiento.history['val_mean_squared_error'], label='val_MSE')\n",
    "plt.legend()\n",
    "plt.xlabel(\"Epochs\")\n"
   ]
  },
  {
   "cell_type": "code",
   "execution_count": 75,
   "metadata": {},
   "outputs": [],
   "source": [
    "# Trakeo de corridas en MLFLOW para seleccionar modelo\n",
    "mlflow.start_run(run_name=\"sinL2emb\") #cambiar nombre según modelo a prueba\n",
    "mlflow.log_params({\n",
    "    'n_latent_factors_u': n_latent_factors_user,\n",
    "    'n_latent_factors_m': n_latent_factors_movie,\n",
    "    'learning_rate': learning_rate,\n",
    "    'batch': batch_size,\n",
    "    'epochs': epochs\n",
    "})\n",
    "mlflow.log_metrics({\n",
    "    'loss': loss, 'metric': metric,\n",
    "    'val_loss': val_loss, 'val_metric': val_metric,\n",
    "})\n",
    "mlflow.end_run()"
   ]
  },
  {
   "cell_type": "code",
   "execution_count": 66,
   "metadata": {},
   "outputs": [
    {
     "data": {
      "text/html": [
       "<div>\n",
       "<style scoped>\n",
       "    .dataframe tbody tr th:only-of-type {\n",
       "        vertical-align: middle;\n",
       "    }\n",
       "\n",
       "    .dataframe tbody tr th {\n",
       "        vertical-align: top;\n",
       "    }\n",
       "\n",
       "    .dataframe thead th {\n",
       "        text-align: right;\n",
       "    }\n",
       "</style>\n",
       "<table border=\"1\" class=\"dataframe\">\n",
       "  <thead>\n",
       "    <tr style=\"text-align: right;\">\n",
       "      <th></th>\n",
       "      <th>Unnamed: 0</th>\n",
       "      <th>user_id</th>\n",
       "      <th>movie_id</th>\n",
       "      <th>rating</th>\n",
       "      <th>Date</th>\n",
       "      <th>Action</th>\n",
       "      <th>Adventure</th>\n",
       "      <th>Animation</th>\n",
       "      <th>Children's</th>\n",
       "      <th>Comedy</th>\n",
       "      <th>...</th>\n",
       "      <th>Fantasy</th>\n",
       "      <th>Film-Noir</th>\n",
       "      <th>Horror</th>\n",
       "      <th>Musical</th>\n",
       "      <th>Mystery</th>\n",
       "      <th>Romance</th>\n",
       "      <th>Sci-Fi</th>\n",
       "      <th>Thriller</th>\n",
       "      <th>War</th>\n",
       "      <th>Western</th>\n",
       "    </tr>\n",
       "  </thead>\n",
       "  <tbody>\n",
       "    <tr>\n",
       "      <th>20622</th>\n",
       "      <td>20622</td>\n",
       "      <td>252</td>\n",
       "      <td>14</td>\n",
       "      <td>4</td>\n",
       "      <td>1998-04-01 18:54:36</td>\n",
       "      <td>0</td>\n",
       "      <td>0</td>\n",
       "      <td>0</td>\n",
       "      <td>0</td>\n",
       "      <td>0</td>\n",
       "      <td>...</td>\n",
       "      <td>0</td>\n",
       "      <td>0</td>\n",
       "      <td>0</td>\n",
       "      <td>0</td>\n",
       "      <td>0</td>\n",
       "      <td>1</td>\n",
       "      <td>0</td>\n",
       "      <td>0</td>\n",
       "      <td>0</td>\n",
       "      <td>0</td>\n",
       "    </tr>\n",
       "    <tr>\n",
       "      <th>57480</th>\n",
       "      <td>57480</td>\n",
       "      <td>416</td>\n",
       "      <td>157</td>\n",
       "      <td>4</td>\n",
       "      <td>1998-02-01 07:15:16</td>\n",
       "      <td>0</td>\n",
       "      <td>0</td>\n",
       "      <td>0</td>\n",
       "      <td>0</td>\n",
       "      <td>0</td>\n",
       "      <td>...</td>\n",
       "      <td>0</td>\n",
       "      <td>0</td>\n",
       "      <td>0</td>\n",
       "      <td>0</td>\n",
       "      <td>0</td>\n",
       "      <td>0</td>\n",
       "      <td>0</td>\n",
       "      <td>0</td>\n",
       "      <td>1</td>\n",
       "      <td>0</td>\n",
       "    </tr>\n",
       "  </tbody>\n",
       "</table>\n",
       "<p>2 rows × 23 columns</p>\n",
       "</div>"
      ],
      "text/plain": [
       "       Unnamed: 0  user_id  movie_id  rating                Date  Action  \\\n",
       "20622       20622      252        14       4 1998-04-01 18:54:36       0   \n",
       "57480       57480      416       157       4 1998-02-01 07:15:16       0   \n",
       "\n",
       "       Adventure  Animation  Children's  Comedy  ...  Fantasy  Film-Noir  \\\n",
       "20622          0          0           0       0  ...        0          0   \n",
       "57480          0          0           0       0  ...        0          0   \n",
       "\n",
       "       Horror  Musical  Mystery  Romance  Sci-Fi  Thriller  War  Western  \n",
       "20622       0        0        0        1       0         0    0        0  \n",
       "57480       0        0        0        0       0         0    1        0  \n",
       "\n",
       "[2 rows x 23 columns]"
      ]
     },
     "execution_count": 66,
     "metadata": {},
     "output_type": "execute_result"
    }
   ],
   "source": [
    "# Muestra al azar de val_df para prueba\n",
    "val_df.sample(n=2)"
   ]
  },
  {
   "cell_type": "code",
   "execution_count": 127,
   "metadata": {},
   "outputs": [
    {
     "name": "stdout",
     "output_type": "stream",
     "text": [
      "1/1 [==============================] - 0s 22ms/step\n",
      "Predicted rating for user 252 and movie 14: [[4.48506]]\n",
      "1/1 [==============================] - 0s 9ms/step\n",
      "Predicted rating for user 416 and movie 157: [[4.0892563]]\n"
     ]
    }
   ],
   "source": [
    "# Prueba\n",
    "user_id = 252\n",
    "movie_id = 14\n",
    "prediction = model.predict([pd.Series([user_id]), pd.Series([movie_id])])\n",
    "print(f'Predicted rating for user {user_id} and movie {movie_id}: {prediction}')\n",
    "\n",
    "user_id = 416\n",
    "movie_id = 157\n",
    "prediction = model.predict([pd.Series([user_id]), pd.Series([movie_id])])\n",
    "print(f'Predicted rating for user {user_id} and movie {movie_id}: {prediction}')"
   ]
  },
  {
   "cell_type": "markdown",
   "metadata": {},
   "source": [
    "•\tAlmacenar los vectores de películas y personas en una base de datos vectorial (OpenSearch)."
   ]
  },
  {
   "cell_type": "code",
   "execution_count": 128,
   "metadata": {},
   "outputs": [
    {
     "data": {
      "text/plain": [
       "((1683, 15), (944, 10), 1682, 943)"
      ]
     },
     "execution_count": 128,
     "metadata": {},
     "output_type": "execute_result"
    }
   ],
   "source": [
    "# Embeddings\n",
    "movie_embeddings_weights = model.layers[2].get_weights()[0]\n",
    "user_embeddings_weights = model.layers[3].get_weights()[0]\n",
    "movie_embeddings_weights.shape, user_embeddings_weights.shape, n_movies, n_users"
   ]
  },
  {
   "cell_type": "code",
   "execution_count": 129,
   "metadata": {},
   "outputs": [],
   "source": [
    "# Conversión de los embeddings a \"json\"\n",
    "import json\n",
    "\n",
    "# Convertir los embeddings a listas\n",
    "user_embeddings_list = user_embeddings_weights.tolist()\n",
    "movie_embeddings_list = movie_embeddings_weights.tolist()\n",
    "\n",
    "# Crear un diccionario para los datos\n",
    "data = {\n",
    "    'users': user_embeddings_list,\n",
    "    'movies': movie_embeddings_list\n",
    "}\n",
    "\n",
    "# Convertir a JSON\n",
    "json_data = json.dumps(data)"
   ]
  },
  {
   "cell_type": "code",
   "execution_count": 130,
   "metadata": {},
   "outputs": [],
   "source": [
    "# Conexión a OpenSearh\n",
    "from opensearchpy import OpenSearch, RequestsHttpConnection\n",
    "\n",
    "client = OpenSearch(\n",
    "    hosts=[{'host': 'localhost', 'port': 9200}],\n",
    "    http_auth=('admin', 'gamartiarena/itba123'),  # Ajustar credenciales\n",
    "    use_ssl=False,\n",
    "    verify_certs=False,\n",
    "    connection_class=RequestsHttpConnection\n",
    ")"
   ]
  },
  {
   "cell_type": "code",
   "execution_count": 131,
   "metadata": {},
   "outputs": [],
   "source": [
    "# Indexación\n",
    "\n",
    "# Crear índices\n",
    "client.indices.create(index='user_embeddings', ignore=400)\n",
    "client.indices.create(index='movie_embeddings', ignore=400)\n",
    "\n",
    "# Indexar los embeddings de usuarios\n",
    "for user_id, vector in enumerate(user_embeddings_list):\n",
    "    client.index(\n",
    "        index='user_embeddings',\n",
    "        id=user_id,\n",
    "        body={'embedding': vector}\n",
    "    )\n",
    "\n",
    "# Indexar los embeddings de películas\n",
    "for movie_id, vector in enumerate(movie_embeddings_list):\n",
    "    client.index(\n",
    "        index='movie_embeddings',\n",
    "        id=movie_id,\n",
    "        body={'embedding': vector}\n",
    "    )"
   ]
  },
  {
   "cell_type": "code",
   "execution_count": 45,
   "metadata": {},
   "outputs": [],
   "source": [
    "#Acceso a los embeddings en OpenSearch\n",
    "#curl -X GET \"http://localhost:9200/user_embeddings/_search?pretty=true&q=*:*\"\n",
    "#curl -X GET \"http://localhost:9200/movie_embeddings/_search?pretty=true&q=*:*\""
   ]
  },
  {
   "cell_type": "code",
   "execution_count": 132,
   "metadata": {},
   "outputs": [],
   "source": [
    "# Guardado de embeddings de usuarios como archivo\n",
    "import numpy as np\n",
    "np.save(\"user_embeddings_weights.npy\", user_embeddings_weights)\n",
    "np.save(\"movie_embeddings_weights.npy\", movie_embeddings_weights)"
   ]
  },
  {
   "cell_type": "markdown",
   "metadata": {},
   "source": [
    "* Implementar una API para que se puedan realizar las siguientes consultas:\n",
    "1) Dado un usuario (ID y un número K), que la API devuelva las K recomendaciones de películas para ese usuario (Recomendación Model Based)\n",
    "2) Dado una película (ID y un número K) que la API devuelva las K películas más similares a esa película. (More like this de Netflix) \n",
    "3) Para película recomendada en los puntos anteriores, devolver como mínimo nombre, año, url, géneros y lugar en el ranking de la recomendación de la película. Obtener los datos de la película de la DB relacional.\n"
   ]
  },
  {
   "cell_type": "code",
   "execution_count": 133,
   "metadata": {},
   "outputs": [
    {
     "name": "stdout",
     "output_type": "stream",
     "text": [
      "/Users/gamartiarena/Documents/Python/integrador2\n"
     ]
    },
    {
     "name": "stderr",
     "output_type": "stream",
     "text": [
      "/opt/anaconda3/envs/integrador2/lib/python3.9/site-packages/keras/src/engine/training.py:3000: UserWarning: You are saving your model as an HDF5 file via `model.save()`. This file format is considered legacy. We recommend using instead the native Keras format, e.g. `model.save('my_model.keras')`.\n",
      "  saving_api.save_model(\n"
     ]
    }
   ],
   "source": [
    "#Salvado y verificación la existencia del modelo\n",
    "import tensorflow as tf\n",
    "import os\n",
    "print(os.getcwd())\n",
    "\n",
    "# Salvar el modelo\n",
    "model.save('modelo_recomendacion.h5')\n",
    "\n",
    "# Verificar su existencia\n",
    "model = tf.keras.models.load_model('modelo_recomendacion.h5')"
   ]
  },
  {
   "cell_type": "code",
   "execution_count": 114,
   "metadata": {},
   "outputs": [
    {
     "name": "stdout",
     "output_type": "stream",
     "text": [
      "/Users/gamartiarena/Documents/Python/integrador2\n",
      " * Serving Flask app '__main__'\n",
      " * Debug mode: on\n"
     ]
    },
    {
     "name": "stderr",
     "output_type": "stream",
     "text": [
      "INFO:werkzeug:\u001b[31m\u001b[1mWARNING: This is a development server. Do not use it in a production deployment. Use a production WSGI server instead.\u001b[0m\n",
      " * Running on all addresses (0.0.0.0)\n",
      " * Running on http://127.0.0.1:5018\n",
      " * Running on http://192.168.68.70:5018\n",
      "INFO:werkzeug:\u001b[33mPress CTRL+C to quit\u001b[0m\n",
      "INFO:werkzeug:127.0.0.1 - - [08/Nov/2024 20:24:22] \"GET /similar_movies/17/4 HTTP/1.1\" 200 -\n",
      "INFO:werkzeug:127.0.0.1 - - [08/Nov/2024 20:24:30] \"GET /similar_movies/1/4 HTTP/1.1\" 200 -\n"
     ]
    }
   ],
   "source": [
    "#USAR ESTE COMANDO PARA CAMBIAR EL NOMBRE DE LA COLUMNA CHILDREN EN PELICULAS\n",
    "## ALTER TABLE peliculas\n",
    "## RENAME COLUMN \"Children's\" TO children;\n",
    "\n",
    "# API\n",
    "import tensorflow as tf\n",
    "import os\n",
    "from flask import Flask, jsonify\n",
    "import numpy as np\n",
    "from sklearn.metrics.pairwise import cosine_similarity\n",
    "import psycopg2\n",
    "\n",
    "# Verificar directorio actual\n",
    "print(os.getcwd())\n",
    "\n",
    "# Cargar el modelo\n",
    "model = tf.keras.models.load_model('modelo_recomendacion.h5')\n",
    "\n",
    "# Número de usuarios y películas\n",
    "num_users = user_embeddings_weights.shape[0]\n",
    "num_movies = movie_embeddings_weights.shape[0]\n",
    "\n",
    "# Crear la aplicación Flask\n",
    "app = Flask(__name__)\n",
    "\n",
    "# Conectar a la base de datos PostgreSQL\n",
    "def connect_db():\n",
    "    conn = psycopg2.connect(\n",
    "        host=\"localhost\", \n",
    "        port=5432,\n",
    "        database=\"gamartiarena\",\n",
    "        user=\"gamartiarena\",\n",
    "        password=\"itba123\"\n",
    "    )\n",
    "    return conn\n",
    "\n",
    "# Configurar consultas\n",
    "@app.route('/')\n",
    "def home():\n",
    "    return \"¡Bienvenido a la página principal!\"\n",
    "\n",
    "# REC1: Dado un usuario (ID y un número K), API devuelva las K recomendaciones de películas para ID\n",
    "#http://127.0.0.1:5018//recommend_movies/45/3\n",
    "@app.route('/recommend_movies/<int:user_id>/<int:k>')\n",
    "def recommend_movies(user_id, k):\n",
    "    # Obtener predicciones de usuario indicador para todas las películas\n",
    "    all_movie_ids = np.arange(num_movies)\n",
    "    predictions = model.predict([np.full(num_movies, user_id), all_movie_ids]).flatten()\n",
    "\n",
    "    # Ordenar las películas por predicción (de mayor a menor)\n",
    "    top_movie_indices = np.argsort(predictions)[::-1][:k]\n",
    "    top_movie_ids = all_movie_ids[top_movie_indices]\n",
    "\n",
    "    # Conectarse a la base de datos y obtener detalles de las películas\n",
    "    conn = connect_db()\n",
    "    cur = conn.cursor()\n",
    "\n",
    "    # Consulta para obtener información de las películas recomendadas\n",
    "    movie_details = []\n",
    "    for movie_id in top_movie_ids:\n",
    "        cur.execute(\"\"\"\n",
    "            SELECT \"Name\", \"Release Date\", \"IMDB URL\", \n",
    "            CASE \n",
    "                WHEN \"unknown\" = 1 THEN 'Unknown'\n",
    "                ELSE CONCAT_WS(',', \n",
    "                    CASE WHEN \"Action\" = 1 THEN 'Action' ELSE NULL END,\n",
    "                    CASE WHEN \"Adventure\" = 1 THEN 'Adventure' ELSE NULL END,\n",
    "                    CASE WHEN \"Animation\" = 1 THEN 'Animation' ELSE NULL END,\n",
    "                    CASE WHEN \"Children's\" = 1 THEN 'children' ELSE NULL END,\n",
    "                    CASE WHEN \"Comedy\" = 1 THEN 'Comedy' ELSE NULL END,\n",
    "                    CASE WHEN \"Crime\" = 1 THEN 'Crime' ELSE NULL END,\n",
    "                    CASE WHEN \"Documentary\" = 1 THEN 'Documentary' ELSE NULL END,\n",
    "                    CASE WHEN \"Drama\" = 1 THEN 'Drama' ELSE NULL END,\n",
    "                    CASE WHEN \"Fantasy\" = 1 THEN 'Fantasy' ELSE NULL END,\n",
    "                    CASE WHEN \"Film-Noir\" = 1 THEN 'Film-Noir' ELSE NULL END,\n",
    "                    CASE WHEN \"Horror\" = 1 THEN 'Horror' ELSE NULL END,\n",
    "                    CASE WHEN \"Musical\" = 1 THEN 'Musical' ELSE NULL END,\n",
    "                    CASE WHEN \"Mystery\" = 1 THEN 'Mystery' ELSE NULL END,\n",
    "                    CASE WHEN \"Romance\" = 1 THEN 'Romance' ELSE NULL END,\n",
    "                    CASE WHEN \"Sci-Fi\" = 1 THEN 'Sci-Fi' ELSE NULL END,\n",
    "                    CASE WHEN \"Thriller\" = 1 THEN 'Thriller' ELSE NULL END,\n",
    "                    CASE WHEN \"War\" = 1 THEN 'War' ELSE NULL END,\n",
    "                    CASE WHEN \"Western\" = 1 THEN 'Western' ELSE NULL END\n",
    "                )\n",
    "            END AS generos\n",
    "            FROM peliculas \n",
    "            WHERE id = %s\n",
    "        \"\"\", (int(movie_id),))\n",
    "        result = cur.fetchone()\n",
    "        \n",
    "        if result:\n",
    "            movie_details.append({\n",
    "                'id': movie_id,\n",
    "                'name': result[0],\n",
    "                'release_date': result[1],\n",
    "                'imdb_url': result[2],\n",
    "                'generos': result[3],\n",
    "                'ranking': int(np.where(top_movie_ids == movie_id)[0][0]) + 1  # Posición en el ranking\n",
    "            })\n",
    "\n",
    "    conn.close()\n",
    "\n",
    "    def convert_to_standard_types(data):\n",
    "      if isinstance(data, np.int32):\n",
    "        return int(data)\n",
    "      elif isinstance(data, np.int64):\n",
    "        return int(data)\n",
    "      elif isinstance(data, list):\n",
    "        return [convert_to_standard_types(item) for item in data]\n",
    "      elif isinstance(data, dict):\n",
    "        return {key: convert_to_standard_types(value) for key, value in data.items()}\n",
    "      else:\n",
    "        return data\n",
    "\n",
    "    movie_details = convert_to_standard_types(movie_details)\n",
    "    return jsonify({'recommended_movies': movie_details})\n",
    "\n",
    "  \n",
    "# REC2: Dada una película (ID y un número K), API devuelva lasnK películas más similares a esa película\n",
    "#http://127.0.0.1:5018//similar_movies/17/4\n",
    "@app.route('/similar_movies/<int:movie_id>/<int:k>')\n",
    "def similar_movies(movie_id, k):\n",
    "    # Calcular la similitud del coseno entre la película dada y todas las demás\n",
    "    similarity_scores = cosine_similarity([movie_embeddings_weights[movie_id]], movie_embeddings_weights)\n",
    "\n",
    "    # Obtener los índices de las películas más similares (excluyendo la película dada)\n",
    "    top_movie_indices = np.argsort(similarity_scores[0])[::-1][1:k+1]\n",
    "    top_movie_ids = np.array(range(num_movies))[top_movie_indices]\n",
    "\n",
    "    # Conectarse a la base de datos y obtener detalles de las películas similares\n",
    "    conn = connect_db()\n",
    "    cur = conn.cursor()\n",
    "\n",
    "    # Consulta para obtener información de las películas similares\n",
    "    movie_details = []\n",
    "    for movie_id in top_movie_ids:\n",
    "        cur.execute(\"\"\"\n",
    "            SELECT \"Name\", \"Release Date\", \"IMDB URL\", \n",
    "            CASE \n",
    "                WHEN \"unknown\" = 1 THEN 'Unknown'\n",
    "                ELSE CONCAT_WS(',', \n",
    "                    CASE WHEN \"Action\" = 1 THEN 'Action' ELSE NULL END,\n",
    "                    CASE WHEN \"Adventure\" = 1 THEN 'Adventure' ELSE NULL END,\n",
    "                    CASE WHEN \"Animation\" = 1 THEN 'Animation' ELSE NULL END,\n",
    "                    CASE WHEN \"Children's\" = 1 THEN 'children' ELSE NULL END,\n",
    "                    CASE WHEN \"Comedy\" = 1 THEN 'Comedy' ELSE NULL END,\n",
    "                    CASE WHEN \"Crime\" = 1 THEN 'Crime' ELSE NULL END,\n",
    "                    CASE WHEN \"Documentary\" = 1 THEN 'Documentary' ELSE NULL END,\n",
    "                    CASE WHEN \"Drama\" = 1 THEN 'Drama' ELSE NULL END,\n",
    "                    CASE WHEN \"Fantasy\" = 1 THEN 'Fantasy' ELSE NULL END,\n",
    "                    CASE WHEN \"Film-Noir\" = 1 THEN 'Film-Noir' ELSE NULL END,\n",
    "                    CASE WHEN \"Horror\" = 1 THEN 'Horror' ELSE NULL END,\n",
    "                    CASE WHEN \"Musical\" = 1 THEN 'Musical' ELSE NULL END,\n",
    "                    CASE WHEN \"Mystery\" = 1 THEN 'Mystery' ELSE NULL END,\n",
    "                    CASE WHEN \"Romance\" = 1 THEN 'Romance' ELSE NULL END,\n",
    "                    CASE WHEN \"Sci-Fi\" = 1 THEN 'Sci-Fi' ELSE NULL END,\n",
    "                    CASE WHEN \"Thriller\" = 1 THEN 'Thriller' ELSE NULL END,\n",
    "                    CASE WHEN \"War\" = 1 THEN 'War' ELSE NULL END,\n",
    "                    CASE WHEN \"Western\" = 1 THEN 'Western' ELSE NULL END\n",
    "                )\n",
    "            END AS generos\n",
    "            FROM peliculas \n",
    "            WHERE id = %s\n",
    "        \"\"\", (int(movie_id),))\n",
    "        result = cur.fetchone()\n",
    "        \n",
    "        if result:\n",
    "            movie_details.append({\n",
    "                'id': movie_id,\n",
    "                'name': result[0],\n",
    "                'release_date': result[1],\n",
    "                'imdb_url': result[2],\n",
    "                'generos': result[3],\n",
    "                'similarity_score': float(similarity_scores[0][movie_id])  # Similaridad de coseno\n",
    "            })\n",
    "\n",
    "    conn.close()\n",
    "\n",
    "    def convert_to_standard_types(data):\n",
    "        if isinstance(data, np.int32):\n",
    "            return int(data)\n",
    "        elif isinstance(data, np.int64):\n",
    "            return int(data)\n",
    "        elif isinstance(data, list):\n",
    "            return [convert_to_standard_types(item) for item in data]\n",
    "        elif isinstance(data, dict):\n",
    "            return {key: convert_to_standard_types(value) for key, value in data.items()}\n",
    "        else:\n",
    "            return data\n",
    "\n",
    "    movie_details = convert_to_standard_types(movie_details)\n",
    "    return jsonify({'similar_movies': movie_details})\n",
    "\n",
    "\n",
    "# Iniciar la aplicación Flask\n",
    "if __name__ == '__main__':\n",
    "    port = int(os.environ.get('PORT', 5018))\n",
    "    app.run(host='0.0.0.0', port=port, debug=True, use_reloader=False)"
   ]
  },
  {
   "cell_type": "markdown",
   "metadata": {},
   "source": []
  }
 ],
 "metadata": {
  "kernelspec": {
   "display_name": "base",
   "language": "python",
   "name": "python3"
  },
  "language_info": {
   "codemirror_mode": {
    "name": "ipython",
    "version": 3
   },
   "file_extension": ".py",
   "mimetype": "text/x-python",
   "name": "python",
   "nbconvert_exporter": "python",
   "pygments_lexer": "ipython3",
   "version": "3.9.19"
  }
 },
 "nbformat": 4,
 "nbformat_minor": 2
}
